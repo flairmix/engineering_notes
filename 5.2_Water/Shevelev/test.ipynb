{
 "cells": [
  {
   "cell_type": "code",
   "execution_count": 1,
   "id": "7896d61b",
   "metadata": {},
   "outputs": [],
   "source": [
    "from shevelev_pressure_drop import *"
   ]
  },
  {
   "cell_type": "code",
   "execution_count": 2,
   "id": "039028c4",
   "metadata": {},
   "outputs": [
    {
     "data": {
      "text/plain": [
       "{'velocity_m_s': 1.02, 'pressure_loss_mm_m': 56.064, 'pressure_loss_Pa': 549.8}"
      ]
     },
     "execution_count": 2,
     "metadata": {},
     "output_type": "execute_result"
    }
   ],
   "source": [
    "calculate_shevelev_pressure_drop('steel_new', 50, 2)"
   ]
  }
 ],
 "metadata": {
  "kernelspec": {
   "display_name": "Python 3",
   "language": "python",
   "name": "python3"
  },
  "language_info": {
   "codemirror_mode": {
    "name": "ipython",
    "version": 3
   },
   "file_extension": ".py",
   "mimetype": "text/x-python",
   "name": "python",
   "nbconvert_exporter": "python",
   "pygments_lexer": "ipython3",
   "version": "3.13.3"
  }
 },
 "nbformat": 4,
 "nbformat_minor": 5
}
