{
 "cells": [
  {
   "cell_type": "markdown",
   "id": "5b8ca51b",
   "metadata": {},
   "source": [
    "$$\n",
    "\\tag{ СП 30.13330.2020. Свод правил. Внутренний водопровод и канализация зданий }\n",
    "$$\n",
    "#### 5.10 Максимальный часовой расход воды (стоков)\n",
    "\n",
    "Максимальный часовой расход воды (стоков) $q_{hr}$, $м^3/ч$ следует определять по формуле:\n",
    "\n",
    "$$\n",
    "q_{hr} = 0.005 * q_{0,hr} \\cdot \\alpha_{hr} \\tag{10}\n",
    "$$\n",
    "\n",
    "где:\n",
    "- $q_{0,hr}$ - Расход воды прибором, л/ч,\n",
    "- $\\alpha_{hr}$ - коэффициент, определяемый по приложению Б в зависимости от общего числа приборов $N$, обслуживаемых проектируемой системой, и вероятности их использования $P_{hr}$, вычисляемой согласно п. 5.9.\n",
    "\n",
    "При этом:\n",
    "- При $P_{hr} > 0,1$ и $N \\leq 200$ следует руководствоваться таблицей Б.1.\n",
    "- При других значениях $P_{hr}$ и $N$ коэффициент $\\alpha_{hr}$ следует принимать по таблице Б.2."
   ]
  },
  {
   "cell_type": "markdown",
   "id": "3449d7bf",
   "metadata": {},
   "source": [
    "#### 5.4 Вероятность действия санитарно-технических приборов $P$ ($P_{tot}$, $P_h$, $P_c$) на участках сети следует определять по формулам:\n",
    "\n",
    "a) при однотипных водопотребителях в здании, без учета изменения соотношения $U/N$\n",
    "\n",
    "$$\n",
    "NP = \\frac{q_{hr,u} \\cdot U}{q_0 \\cdot 3600} \\tag{3}\n",
    "$$\n",
    "\n",
    "**Примечания**\n",
    "\n",
    "1. При отсутствии данных о числе санитарно-технических приборов в здании значение $P$ допускается определять по формулам (3) и (4), принимая $N = U$.  \n"
   ]
  },
  {
   "cell_type": "markdown",
   "id": "b1e521ee",
   "metadata": {},
   "source": [
    "#### 5.9 Вероятность использования санитарно-технических приборов $P_{hr}$ для системы в целом\n",
    "\n",
    "Вероятность использования санитарно-технических приборов $P_{hr}$ для системы в целом следует определять по формуле:\n",
    "\n",
    "$$\n",
    "P_{hr} = \\frac{3600*P*q_0}{q_{0,hr}} \\tag{10}\n",
    "$$\n"
   ]
  },
  {
   "cell_type": "code",
   "execution_count": 2,
   "id": "57e73b0d",
   "metadata": {},
   "outputs": [],
   "source": [
    "import math\n",
    "from water_consumption_sp30 import *"
   ]
  },
  {
   "cell_type": "code",
   "execution_count": 3,
   "id": "8142adcb",
   "metadata": {},
   "outputs": [],
   "source": [
    "apartments_BD = {\n",
    "    \"A\": {\n",
    "        \"С\" : 72, \n",
    "        \"1К\" : 24, \n",
    "        \"2К\" : 147, \n",
    "        \"3К\" : 96, \n",
    "        \"4К\" : 3, \n",
    "        \"5К\" : 2, \n",
    "    },\n",
    "    \"B\": {\n",
    "        \"С\" : 66, \n",
    "        \"1К\" : 44, \n",
    "        \"2К\" : 88, \n",
    "        \"3К\" : 44, \n",
    "        \"4К\" : 0, \n",
    "        \"5К\" : 0, \n",
    "    },\n",
    "    \"С\": {\n",
    "        \"С\" : 52, \n",
    "        \"1К\" : 105, \n",
    "        \"2К\" : 104, \n",
    "        \"3К\" : 109, \n",
    "        \"4К\" : 3, \n",
    "        \"5К\" : 0, \n",
    "    },\n",
    "    \"D1\": {\n",
    "        \"1К\" : 204, \n",
    "        \"2К\" : 152, \n",
    "        \"3К\" : 146, \n",
    "        \"4К\" : 15, \n",
    "    },\n",
    "    \"D2\": {\n",
    "        \"1К\" : 271, \n",
    "        \"2К\" : 87, \n",
    "        \"3К\" : 90, \n",
    "        \"4К\" : 13, \n",
    "    },\n",
    "    }"
   ]
  },
  {
   "cell_type": "code",
   "execution_count": 4,
   "id": "0e9a552e",
   "metadata": {},
   "outputs": [
    {
     "name": "stdout",
     "output_type": "stream",
     "text": [
      "\n",
      "Корпус A:\n",
      "  Общее количество квартир: 344\n",
      "  Общее количество комнат: 700\n",
      "  Общее количество людей в корпусе: 1044\n",
      "\n",
      "Корпус B:\n",
      "  Общее количество квартир: 242\n",
      "  Общее количество комнат: 418\n",
      "  Общее количество людей в корпусе: 660\n",
      "\n",
      "Корпус С:\n",
      "  Общее количество квартир: 373\n",
      "  Общее количество комнат: 704\n",
      "  Общее количество людей в корпусе: 1077\n",
      "\n",
      "Корпус D1:\n",
      "  Общее количество квартир: 517\n",
      "  Общее количество комнат: 1006\n",
      "  Общее количество людей в корпусе: 1523\n",
      "\n",
      "Корпус D2:\n",
      "  Общее количество квартир: 461\n",
      "  Общее количество комнат: 767\n",
      "  Общее количество людей в корпусе: 1228\n",
      "\n",
      "Общие результаты:\n",
      "Общее количество квартир во всех корпусах: 1937\n",
      "Общее количество комнат во всех корпусах: 3595\n",
      "Общее количество жителей во всех корпусах_1 этап: 2781\n",
      "Общее количество жителей во всех корпусах_2 этап: 2751\n",
      "Общее количество жителей во всех корпусах_1+2 этап: 5532\n"
     ]
    }
   ],
   "source": [
    "total_apartments = 0  \n",
    "total_people = 0  \n",
    "total_people_1 = 0  \n",
    "total_people_2 = 0  \n",
    "total_rooms = 0     \n",
    "\n",
    "# Проходим по каждому корпусу\n",
    "for building, data in apartments_BD.items():\n",
    "    print(f\"\\nКорпус {building}:\")\n",
    "    \n",
    "    # Инициализируем счетчики для каждого корпуса\n",
    "    building_apartments = 0\n",
    "    building_rooms = 0\n",
    "    building_people = 0\n",
    "    \n",
    "    # Проходим по каждому типу квартир в корпусе\n",
    "    for apartment_type, count in data.items():\n",
    "        # Считаем количество квартир данного типа\n",
    "        building_apartments += count\n",
    "        \n",
    "        # Определяем количество комнат в квартире\n",
    "        if apartment_type == \"С\":\n",
    "            rooms = 1  # Студия считается как 1-комнатная\n",
    "        else:\n",
    "            rooms = int(apartment_type[0])  # Извлекаем число из строки\n",
    "        \n",
    "        # Умножаем количество комнат на количество квартир\n",
    "        building_rooms += rooms * count\n",
    "        building_people += (count * (rooms+1))\n",
    "     \n",
    "    # Выводим результаты по корпусу\n",
    "    print(f\"  Общее количество квартир: {building_apartments}\")\n",
    "    print(f\"  Общее количество комнат: {building_rooms}\")\n",
    "    print(f\"  Общее количество людей в корпусе: {building_people}\")\n",
    "    \n",
    "    # Обновляем общие счетчики\n",
    "    total_apartments += building_apartments\n",
    "    total_rooms += building_rooms\n",
    "\n",
    "    if building in (\"D1, D2\"):\n",
    "        total_people_2 += building_people\n",
    "    else:\n",
    "        total_people_1 += building_people\n",
    "\n",
    "total_people = total_people_1 + total_people_2\n",
    "\n",
    "print(\"\\nОбщие результаты:\")\n",
    "print(f\"Общее количество квартир во всех корпусах: {total_apartments}\")\n",
    "print(f\"Общее количество комнат во всех корпусах: {total_rooms}\")\n",
    "print(f\"Общее количество жителей во всех корпусах_1 этап: {total_people_1}\")\n",
    "print(f\"Общее количество жителей во всех корпусах_2 этап: {total_people_2}\")\n",
    "print(f\"Общее количество жителей во всех корпусах_1+2 этап: {total_people}\")"
   ]
  },
  {
   "cell_type": "code",
   "execution_count": 5,
   "id": "4db885dc",
   "metadata": {},
   "outputs": [
    {
     "name": "stdout",
     "output_type": "stream",
     "text": [
      "Суточный 387.24 м3/ч\n",
      "Среднечасовой 16.135 м3/ч\n",
      "Максимальный через коэф 47.276 м3/ч\n"
     ]
    }
   ],
   "source": [
    "print(f\"Суточный {total_people*70/1000} м3/ч\")\n",
    "print(f\"Среднечасовой {total_people*70/1000/24:.3f} м3/ч\")\n",
    "print(f\"Максимальный через коэф {2.93 * total_people*70/1000/24:.3f} м3/ч\")"
   ]
  },
  {
   "cell_type": "code",
   "execution_count": 6,
   "id": "cc14d66f",
   "metadata": {},
   "outputs": [
    {
     "name": "stdout",
     "output_type": "stream",
     "text": [
      "179.79\n",
      "На все здание максимальный часовой = 43.5 м3/ч (предварительный)\n"
     ]
    }
   ],
   "source": [
    "qhru = 6.5\n",
    "q0_hr = 200\n",
    "\n",
    "NPhv = calculate_NPhv(qhru, q0_hr, total_people)\n",
    "\n",
    "print(NPhv)\n",
    "\n",
    "alpha = 43.5\n",
    "\n",
    "print(f\"На все здание максимальный часовой = {0.005*alpha*q0_hr} м3/ч (предварительный)\")\n"
   ]
  },
  {
   "cell_type": "code",
   "execution_count": 7,
   "id": "efc897a7",
   "metadata": {},
   "outputs": [
    {
     "name": "stdout",
     "output_type": "stream",
     "text": [
      "корпус  A - Зона 1 - c 2 по 15 этажи\n",
      "корпус  B - Зона 1 - c 2 по 15 этажи\n",
      "корпус  C - Зона 1 - c 2 по 15 этажи\n",
      "корпус D1 - Зона 1 - c 2 по 15 этажи\n",
      "корпус D2 - Зона 1 - c 2 по 15 этажи\n",
      "-----------------------------------\n",
      "корпус  A - Зона 2 - c 16 по 26 этажи\n",
      "корпус  B - Зона 2 - c 16 по 23 этажи\n",
      "корпус  C - Зона 2 - c 16 по 29 этажи\n",
      "корпус D1 - Зона 2 - c 16 по 29 этажи\n",
      "корпус D2 - Зона 2 - c 16 по 29 этажи\n",
      "-----------------------------------\n",
      "корпус D1 - Зона 3 - c 30 по 44 этажи\n",
      "корпус D2 - Зона 3 - c 30 по 43 этажи\n",
      "-----------------------------------\n",
      "корпус D1 - Зона 4 - c 45 по 55 этажи\n",
      "-----------------------------------\n"
     ]
    }
   ],
   "source": [
    "print(f\"корпус  A - Зона 1 - c 2 по 15 этажи\")\n",
    "print(f\"корпус  B - Зона 1 - c 2 по 15 этажи\")\n",
    "print(f\"корпус  C - Зона 1 - c 2 по 15 этажи\")\n",
    "print(f\"корпус D1 - Зона 1 - c 2 по 15 этажи\")\n",
    "print(f\"корпус D2 - Зона 1 - c 2 по 15 этажи\")\n",
    "print(f\"-----------------------------------\")\n",
    "print(f\"корпус  A - Зона 2 - c 16 по 26 этажи\")\n",
    "print(f\"корпус  B - Зона 2 - c 16 по 23 этажи\")\n",
    "print(f\"корпус  C - Зона 2 - c 16 по 29 этажи\")\n",
    "print(f\"корпус D1 - Зона 2 - c 16 по 29 этажи\")\n",
    "print(f\"корпус D2 - Зона 2 - c 16 по 29 этажи\")\n",
    "print(f\"-----------------------------------\")\n",
    "print(f\"корпус D1 - Зона 3 - c 30 по 44 этажи\")\n",
    "print(f\"корпус D2 - Зона 3 - c 30 по 43 этажи\")\n",
    "print(f\"-----------------------------------\")\n",
    "print(f\"корпус D1 - Зона 4 - c 45 по 55 этажи\")\n",
    "print(f\"-----------------------------------\")"
   ]
  },
  {
   "cell_type": "code",
   "execution_count": 8,
   "id": "31047ca9",
   "metadata": {},
   "outputs": [],
   "source": [
    "apartments = {\n",
    "    \"zone1\" : {\n",
    "        \"ABC\": {\n",
    "            \"1К\" : 209, \n",
    "            \"2К\" : 197, \n",
    "            \"3К\" : 140, \n",
    "            \"4К\" : 0, \n",
    "            \"5К\" : 0, \n",
    "        },\n",
    "        \"D1D2\": {\n",
    "            \"1К\" : 167, \n",
    "            \"2К\" : 65, \n",
    "            \"3К\" : 64, \n",
    "            \"4К\" : 4, \n",
    "        },\n",
    "    },\n",
    "    \"zone2\" : {\n",
    "        \"ABC\": {\n",
    "            \"1К\" : 153, \n",
    "            \"2К\" : 144, \n",
    "            \"3К\" : 108, \n",
    "            \"4К\" : 6, \n",
    "            \"5К\" : 2, \n",
    "        },\n",
    "        \"D1D2\": {\n",
    "            \"1К\" : 162, \n",
    "            \"2К\" : 74, \n",
    "            \"3К\" : 63, \n",
    "            \"4К\" : 6, \n",
    "        },\n",
    "    },\n",
    "    \"zone3\" : {\n",
    "        \"D1D2\": {\n",
    "            \"1К\" : 116, \n",
    "            \"2К\" : 77, \n",
    "            \"3К\" : 74, \n",
    "            \"4К\" : 14, \n",
    "        },\n",
    "    },\n",
    "    \"zone4\" : {\n",
    "        \"D1\": {\n",
    "            \"1К\" : 30, \n",
    "            \"2К\" : 23, \n",
    "            \"3К\" : 35, \n",
    "            \"4К\" : 4, \n",
    "        },\n",
    "    },\n",
    "}"
   ]
  },
  {
   "cell_type": "code",
   "execution_count": 9,
   "id": "02a7bd17",
   "metadata": {},
   "outputs": [],
   "source": [
    "def calculate_total_rooms(apartments):\n",
    "    \"\"\"\n",
    "    Рассчитывает общее количество комнат для каждой зоны.\n",
    "    \n",
    "    Параметры:\n",
    "    - apartments: словарь с данными о квартирах\n",
    "    \n",
    "    Возвращает:\n",
    "    - Словарь с общим количеством комнат для каждой зоны\n",
    "    \"\"\"\n",
    "    total_people = {}\n",
    "    \n",
    "    for zone, buildings in apartments.items():\n",
    "        total_people[zone] = 0\n",
    "        \n",
    "        for building, rooms in buildings.items():\n",
    "            for room_type, count in rooms.items():\n",
    "                # Определяем количество комнат в квартире\n",
    "                if room_type == \"С\":\n",
    "                    rooms_per_apartment = 1  \n",
    "                else:\n",
    "                    rooms_per_apartment = int(room_type[0])  \n",
    "                \n",
    "                total_people[zone] += (rooms_per_apartment+1) * count\n",
    "    \n",
    "    return total_people"
   ]
  },
  {
   "cell_type": "code",
   "execution_count": 10,
   "id": "ef9d6dbd",
   "metadata": {},
   "outputs": [
    {
     "name": "stdout",
     "output_type": "stream",
     "text": [
      "{'zone1': 2374, 'zone2': 2040, 'zone3': 829, 'zone4': 289}\n"
     ]
    }
   ],
   "source": [
    "zone_people = calculate_total_rooms(apartments)\n",
    "\n",
    "print(zone_people)"
   ]
  },
  {
   "cell_type": "code",
   "execution_count": 11,
   "id": "8d916987",
   "metadata": {},
   "outputs": [],
   "source": [
    "# СП 253 Приложение В\n",
    "qhru = 6.5\n",
    "q0_hr = 200"
   ]
  },
  {
   "cell_type": "code",
   "execution_count": 12,
   "id": "1c80d552",
   "metadata": {},
   "outputs": [
    {
     "name": "stdout",
     "output_type": "stream",
     "text": [
      "NPhvs_sum - 179.79\n",
      "alpha_sum - 43.90275\n",
      "flow_max_hr_sum - 43.90275\n"
     ]
    }
   ],
   "source": [
    "NPhvs_sum = calculate_NPhv(qhru, q0_hr, 5532)\n",
    "print(f\"NPhvs_sum - {NPhvs_sum}\")\n",
    "\n",
    "alpha_sum = calculate_alpha(NPhvs_sum)\n",
    "print(f\"alpha_sum - {alpha_sum}\")\n",
    "\n",
    "flow_max_hr_sum = calculate_flow_max_hr(alpha_sum, q0_hr)\n",
    "print(f\"flow_max_hr_sum - {flow_max_hr_sum}\")"
   ]
  },
  {
   "cell_type": "code",
   "execution_count": 13,
   "id": "988b357a",
   "metadata": {},
   "outputs": [
    {
     "name": "stdout",
     "output_type": "stream",
     "text": [
      "Вероятность действия санитарно-технических приборов - NPhv\n",
      "zone1 / NPhv = 77.155\n",
      "zone2 / NPhv = 66.3\n",
      "zone3 / NPhv = 26.9425\n",
      "zone4 / NPhv = 9.3925\n"
     ]
    }
   ],
   "source": [
    "NPhvs = {\n",
    "    \"zone1\": calculate_NPhv(qhru, q0_hr, zone_people[\"zone1\"]),\n",
    "    \"zone2\": calculate_NPhv(qhru, q0_hr, zone_people[\"zone2\"]),\n",
    "    \"zone3\": calculate_NPhv(qhru, q0_hr, zone_people[\"zone3\"]),\n",
    "    \"zone4\": calculate_NPhv(qhru, q0_hr, zone_people[\"zone4\"]),\n",
    "}\n",
    "\n",
    "print(\"Вероятность действия санитарно-технических приборов - NPhv\")\n",
    "\n",
    "for zone, NPhv in NPhvs.items():\n",
    "    print(f\"{zone} / NPhv = {NPhv}\")"
   ]
  },
  {
   "cell_type": "code",
   "execution_count": 14,
   "id": "80b9f8d9",
   "metadata": {},
   "outputs": [
    {
     "name": "stdout",
     "output_type": "stream",
     "text": [
      "Значения коэффициентов - alpha\n",
      "zone1 / alpha = 20.67565\n",
      "zone2 / alpha = 18.159\n",
      "zone3 / alpha = 8.68651\n",
      "zone4 / alpha = 3.94575\n"
     ]
    }
   ],
   "source": [
    "print(\"Значения коэффициентов - alpha\")\n",
    "\n",
    "alphas = {\n",
    "    \"zone1\": calculate_alpha(NPhvs['zone1']),\n",
    "    \"zone2\": calculate_alpha(NPhvs['zone2']),\n",
    "    \"zone3\": calculate_alpha(NPhvs['zone3']),\n",
    "    \"zone4\": calculate_alpha(NPhvs['zone4']),\n",
    "}\n",
    "\n",
    "for zone, alpha in alphas.items():\n",
    "    print(f\"{zone} / alpha = {alpha}\")"
   ]
  },
  {
   "cell_type": "code",
   "execution_count": 26,
   "id": "61cef297",
   "metadata": {},
   "outputs": [
    {
     "name": "stdout",
     "output_type": "stream",
     "text": [
      "8.678320000000001\n"
     ]
    }
   ],
   "source": [
    "print(calculate_alpha(26.91))"
   ]
  },
  {
   "cell_type": "code",
   "execution_count": 16,
   "id": "39d5e059",
   "metadata": {},
   "outputs": [],
   "source": [
    "flow_max_hours = {\n",
    "    \"zone1\": calculate_flow_max_hr(alphas[\"zone1\"], q0_hr),\n",
    "    \"zone2\": calculate_flow_max_hr(alphas[\"zone2\"], q0_hr),\n",
    "    \"zone3\": calculate_flow_max_hr(alphas[\"zone3\"], q0_hr),\n",
    "    \"zone4\": calculate_flow_max_hr(alphas[\"zone4\"], q0_hr),\n",
    "}\n",
    "\n",
    "heat_hotwater_max_hours = {\n",
    "    \"zone1\": calculate_heat_kW(flow_max_hours[\"zone1\"], delta_t=60),\n",
    "    \"zone2\": calculate_heat_kW(flow_max_hours[\"zone2\"], delta_t=60),\n",
    "    \"zone3\": calculate_heat_kW(flow_max_hours[\"zone3\"], delta_t=60),\n",
    "    \"zone4\": calculate_heat_kW(flow_max_hours[\"zone4\"], delta_t=60),\n",
    "}\n",
    "\n",
    "heat_hotwater_max_hours_circle = {\n",
    "    \"zone1\": calculate_heat_kW(flow_max_hours[\"zone1\"]*0.4, delta_t=60),\n",
    "    \"zone2\": calculate_heat_kW(flow_max_hours[\"zone2\"]*0.4, delta_t=60),\n",
    "    \"zone3\": calculate_heat_kW(flow_max_hours[\"zone3\"]*0.4, delta_t=60),\n",
    "    \"zone4\": calculate_heat_kW(flow_max_hours[\"zone4\"]*0.4, delta_t=60),\n",
    "}"
   ]
  },
  {
   "cell_type": "code",
   "execution_count": 17,
   "id": "1642d220",
   "metadata": {},
   "outputs": [
    {
     "name": "stdout",
     "output_type": "stream",
     "text": [
      "------------------\n",
      "Зона= zone1\n",
      "Количество жителей= 2374\n",
      "qhru= 6.5, q0_hr= 200,\n",
      "NPhv= 77.155\n",
      "alpha= 20.67565\n",
      "На зону максимальный часовой расход= 20.67565 м3/ч\n",
      "На зону количество теплоты= 1443 кВт\n",
      "На зону количество теплоты с циркуляцией*= 2020 кВт\n",
      "------------------\n",
      "Зона= zone2\n",
      "Количество жителей= 2040\n",
      "qhru= 6.5, q0_hr= 200,\n",
      "NPhv= 66.3\n",
      "alpha= 18.159\n",
      "На зону максимальный часовой расход= 18.159 м3/ч\n",
      "На зону количество теплоты= 1267 кВт\n",
      "На зону количество теплоты с циркуляцией*= 1774 кВт\n",
      "------------------\n",
      "Зона= zone3\n",
      "Количество жителей= 829\n",
      "qhru= 6.5, q0_hr= 200,\n",
      "NPhv= 26.9425\n",
      "alpha= 8.68651\n",
      "На зону максимальный часовой расход= 8.68651 м3/ч\n",
      "На зону количество теплоты= 606 кВт\n",
      "На зону количество теплоты с циркуляцией*= 848 кВт\n",
      "------------------\n",
      "Зона= zone4\n",
      "Количество жителей= 289\n",
      "qhru= 6.5, q0_hr= 200,\n",
      "NPhv= 9.3925\n",
      "alpha= 3.94575\n",
      "На зону максимальный часовой расход= 3.94575 м3/ч\n",
      "На зону количество теплоты= 275 кВт\n",
      "На зону количество теплоты с циркуляцией*= 385 кВт\n"
     ]
    }
   ],
   "source": [
    "for zone, people in zone_people.items():\n",
    "\n",
    "    NPhv = NPhvs[zone]\n",
    "    alpha = alphas[zone]\n",
    "    \n",
    "    print(f\"------------------\")\n",
    "    print(f\"Зона= {zone}\")\n",
    "    print(f\"Количество жителей= {people}\")\n",
    "    print(f\"qhru= {qhru}, q0_hr= {q0_hr},\")\n",
    "    print(f\"NPhv= {NPhv}\")\n",
    "    print(f\"alpha= {alpha}\")\n",
    "    print(f\"На зону максимальный часовой расход= {flow_max_hours[zone]} м3/ч\")\n",
    "    print(f\"На зону количество теплоты= {heat_hotwater_max_hours[zone]} кВт\")\n",
    "    print(f\"На зону количество теплоты с циркуляцией*= {heat_hotwater_max_hours[zone] + heat_hotwater_max_hours_circle[zone]} кВт\")"
   ]
  },
  {
   "cell_type": "code",
   "execution_count": 18,
   "id": "0fc1749f",
   "metadata": {},
   "outputs": [
    {
     "name": "stdout",
     "output_type": "stream",
     "text": [
      "--------------------\n",
      "\n",
      "Детализация по зоне zone1:\n",
      "\n",
      "Корпус ABC:\n",
      "  Общее количество квартир: 546\n",
      "  Распределение по комнатности:\n",
      "    1-комнатных: 209\n",
      "    2-комнатных: 197\n",
      "    3-комнатных: 140\n",
      "    4-комнатных: 0\n",
      "    5-комнатных: 0\n",
      "\n",
      "Корпус D1D2:\n",
      "  Общее количество квартир: 300\n",
      "  Распределение по комнатности:\n",
      "    1-комнатных: 167\n",
      "    2-комнатных: 65\n",
      "    3-комнатных: 64\n",
      "    4-комнатных: 4\n",
      "\n",
      "Итого по зоне zone1: 846 квартир\n",
      "--------------------\n",
      "\n",
      "Детализация по зоне zone2:\n",
      "\n",
      "Корпус ABC:\n",
      "  Общее количество квартир: 413\n",
      "  Распределение по комнатности:\n",
      "    1-комнатных: 153\n",
      "    2-комнатных: 144\n",
      "    3-комнатных: 108\n",
      "    4-комнатных: 6\n",
      "    5-комнатных: 2\n",
      "\n",
      "Корпус D1D2:\n",
      "  Общее количество квартир: 305\n",
      "  Распределение по комнатности:\n",
      "    1-комнатных: 162\n",
      "    2-комнатных: 74\n",
      "    3-комнатных: 63\n",
      "    4-комнатных: 6\n",
      "\n",
      "Итого по зоне zone2: 718 квартир\n",
      "--------------------\n",
      "\n",
      "Детализация по зоне zone3:\n",
      "\n",
      "Корпус D1D2:\n",
      "  Общее количество квартир: 281\n",
      "  Распределение по комнатности:\n",
      "    1-комнатных: 116\n",
      "    2-комнатных: 77\n",
      "    3-комнатных: 74\n",
      "    4-комнатных: 14\n",
      "\n",
      "Итого по зоне zone3: 281 квартир\n",
      "--------------------\n",
      "\n",
      "Детализация по зоне zone4:\n",
      "\n",
      "Корпус D1:\n",
      "  Общее количество квартир: 92\n",
      "  Распределение по комнатности:\n",
      "    1-комнатных: 30\n",
      "    2-комнатных: 23\n",
      "    3-комнатных: 35\n",
      "    4-комнатных: 4\n",
      "\n",
      "Итого по зоне zone4: 92 квартир\n",
      "\n",
      "\n",
      "ИТОГОВОЕ КОЛИЧЕСТВО КВАРТИР: 1937\n",
      "\n",
      "Распределение по зонам:\n",
      "Зона zone1: 846 квартир\n",
      "Зона zone2: 718 квартир\n",
      "Зона zone3: 281 квартир\n",
      "Зона zone4: 92 квартир\n"
     ]
    }
   ],
   "source": [
    "def calculate_total_apartments(apartments):\n",
    "    total_sum = 0\n",
    "    zone_details = {}\n",
    "    \n",
    "    for zone, buildings in apartments.items():\n",
    "        zone_total = 0\n",
    "        print(\"--------------------\")\n",
    "        print(f\"\\nДетализация по зоне {zone}:\")\n",
    "        \n",
    "        for building, rooms in buildings.items():\n",
    "            building_sum = sum(rooms.values())\n",
    "            zone_total += building_sum\n",
    "            \n",
    "            print(f\"\\nКорпус {building}:\")\n",
    "            print(f\"  Общее количество квартир: {building_sum}\")\n",
    "            print(\"  Распределение по комнатности:\")\n",
    "            \n",
    "            # Выводим распределение по комнатности\n",
    "            for room_type, count in rooms.items():\n",
    "                rooms_per_apartment = int(room_type[0]) if room_type != \"1К\" else 1\n",
    "                print(f\"    {rooms_per_apartment}-комнатных: {count}\")\n",
    "        \n",
    "        zone_details[zone] = zone_total\n",
    "        print(f\"\\nИтого по зоне {zone}: {zone_total} квартир\")\n",
    "        total_sum += zone_total\n",
    "    \n",
    "    return total_sum, zone_details\n",
    "\n",
    "# Расчет и вывод результатов\n",
    "total, zones = calculate_total_apartments(apartments)\n",
    "print(f\"\\n\\nИТОГОВОЕ КОЛИЧЕСТВО КВАРТИР: {total}\")\n",
    "print(\"\\nРаспределение по зонам:\")\n",
    "for zone, count in zones.items():\n",
    "    print(f\"Зона {zone}: {count} квартир\")\n"
   ]
  },
  {
   "cell_type": "code",
   "execution_count": 19,
   "id": "d9b1fc13",
   "metadata": {},
   "outputs": [
    {
     "name": "stdout",
     "output_type": "stream",
     "text": [
      "Количество жителей всего= 5532\n",
      "------------------------------------------\n",
      "Кол-во воды на 1 зону= 20.67565 м3/ч\n",
      "Кол-во теплоты на 1 зону= 2020 кВт\n",
      "Кол-во воды на 2 зону= 18.159 м3/ч\n",
      "Кол-во теплоты на 2 зону= 1774 кВт\n",
      "Кол-во воды на 3 зону= 8.68651 м3/ч\n",
      "Кол-во теплоты на 3 зону= 848 кВт\n",
      "Кол-во воды на 4 зону= 3.94575 м3/ч\n",
      "Кол-во теплоты на 4 зону= 385 кВт\n",
      "------------------------------------------\n",
      "Кол-во воды всего= 51.467 м3/ч\n",
      "Кол-во теплоты всего= 5027.4 кВт / 4.3228 Гкал/ч (циркуляция 40%)\n"
     ]
    }
   ],
   "source": [
    "total_water = 0\n",
    "total_heat = 0\n",
    "\n",
    "for zone, heat in heat_hotwater_max_hours.items():\n",
    "    total_heat += (heat*1.40)\n",
    "\n",
    "for zone, water in flow_max_hours.items():\n",
    "    total_water += water\n",
    "\n",
    "\n",
    "print(f\"Количество жителей всего= {sum(zone_people.values())}\")\n",
    "print(f\"------------------------------------------\")\n",
    "print(f\"Кол-во воды на 1 зону= {flow_max_hours[\"zone1\"]} м3/ч\")\n",
    "print(f\"Кол-во теплоты на 1 зону= {heat_hotwater_max_hours[\"zone1\"] + heat_hotwater_max_hours_circle[\"zone1\"]} кВт\")\n",
    "print(f\"Кол-во воды на 2 зону= {flow_max_hours[\"zone2\"]} м3/ч\")\n",
    "print(f\"Кол-во теплоты на 2 зону= {heat_hotwater_max_hours[\"zone2\"] + heat_hotwater_max_hours_circle[\"zone2\"]} кВт\")\n",
    "print(f\"Кол-во воды на 3 зону= {flow_max_hours[\"zone3\"]} м3/ч\")\n",
    "print(f\"Кол-во теплоты на 3 зону= {heat_hotwater_max_hours[\"zone3\"] + heat_hotwater_max_hours_circle[\"zone3\"]} кВт\")\n",
    "print(f\"Кол-во воды на 4 зону= {flow_max_hours[\"zone4\"]} м3/ч\")\n",
    "print(f\"Кол-во теплоты на 4 зону= {heat_hotwater_max_hours[\"zone4\"] + heat_hotwater_max_hours_circle[\"zone4\"]} кВт\")\n",
    "print(f\"------------------------------------------\")\n",
    "print(f\"Кол-во воды всего= {total_water:.3f} м3/ч\")\n",
    "print(f\"Кол-во теплоты всего= {total_heat} кВт / {total_heat/1163:.4f} Гкал/ч (циркуляция 40%)\")"
   ]
  }
 ],
 "metadata": {
  "kernelspec": {
   "display_name": "Python 3",
   "language": "python",
   "name": "python3"
  },
  "language_info": {
   "codemirror_mode": {
    "name": "ipython",
    "version": 3
   },
   "file_extension": ".py",
   "mimetype": "text/x-python",
   "name": "python",
   "nbconvert_exporter": "python",
   "pygments_lexer": "ipython3",
   "version": "3.13.3"
  }
 },
 "nbformat": 4,
 "nbformat_minor": 5
}
