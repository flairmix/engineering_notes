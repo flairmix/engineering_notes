{
 "cells": [
  {
   "cell_type": "code",
   "execution_count": 1,
   "id": "789cb1f7",
   "metadata": {},
   "outputs": [],
   "source": [
    "from vent_general import calculate_airVelocity_m_s\n",
    "from vent_general import calculate_air_heating_power_kW\n",
    "from vent_general import calculate_air_pressure_loss_Pa"
   ]
  },
  {
   "cell_type": "code",
   "execution_count": 2,
   "id": "33b4ed39",
   "metadata": {},
   "outputs": [
    {
     "name": "stdout",
     "output_type": "stream",
     "text": [
      "square_m2 = 0.05\n"
     ]
    },
    {
     "data": {
      "text/plain": [
       "2.778"
      ]
     },
     "execution_count": 2,
     "metadata": {},
     "output_type": "execute_result"
    }
   ],
   "source": [
    "calculate_airVelocity_m_s(500, 0.1, 0.5)"
   ]
  },
  {
   "cell_type": "code",
   "execution_count": 3,
   "id": "ddd65d1d",
   "metadata": {},
   "outputs": [
    {
     "data": {
      "text/plain": [
       "14.74"
      ]
     },
     "execution_count": 3,
     "metadata": {},
     "output_type": "execute_result"
    }
   ],
   "source": [
    "calculate_air_heating_power_kW(1000, -26, 18)"
   ]
  },
  {
   "cell_type": "code",
   "execution_count": null,
   "id": "81ac2762",
   "metadata": {},
   "outputs": [
    {
     "name": "stdout",
     "output_type": "stream",
     "text": [
      "square_m2 = 0.1\n",
      "velocity_m_s = 2.778\n",
      "equivalent_diameter = 0.28571428571428575\n",
      "reynolds_number = 53049.03025112358\n",
      "dynamic_pressure_pa = 4.64966361\n",
      "friction_coefficient = 0.022108619026989098\n"
     ]
    },
    {
     "data": {
      "text/plain": [
       "35"
      ]
     },
     "execution_count": 4,
     "metadata": {},
     "output_type": "execute_result"
    }
   ],
   "source": [
    "calculate_air_pressure_loss_Pa(flow_m3_h=1000, \n",
    "                               length_m=100,\n",
    "                                a_side_m=0.2,\n",
    "                                b_side_m= 0.5,\n",
    "                                diameter_m=0.300,\n",
    "                                shape=\"rect\"\n",
    "                                )"
   ]
  }
 ],
 "metadata": {
  "kernelspec": {
   "display_name": "Python 3",
   "language": "python",
   "name": "python3"
  },
  "language_info": {
   "codemirror_mode": {
    "name": "ipython",
    "version": 3
   },
   "file_extension": ".py",
   "mimetype": "text/x-python",
   "name": "python",
   "nbconvert_exporter": "python",
   "pygments_lexer": "ipython3",
   "version": "3.13.3"
  }
 },
 "nbformat": 4,
 "nbformat_minor": 5
}
