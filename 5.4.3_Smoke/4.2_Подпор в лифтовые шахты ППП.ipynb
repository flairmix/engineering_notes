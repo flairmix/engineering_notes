{
 "cells": [
  {
   "cell_type": "markdown",
   "id": "2b888333",
   "metadata": {},
   "source": [
    "#### 4.2.1 Лифтовые шахты центрального ядра надземной части, с остановками лифтов на уровнях только надземных этажей и с выгороженными лифтовыми холлами на каждом этаже, кроме нижнего"
   ]
  },
  {
   "cell_type": "code",
   "execution_count": null,
   "id": "34006910",
   "metadata": {},
   "outputs": [],
   "source": []
  },
  {
   "cell_type": "markdown",
   "id": "7c6ffa6c",
   "metadata": {},
   "source": [
    "#### 4.2.2 Лифтовые шахты центрального ядра надземной части, с остановками лифтов на уровнях только надземных этажей и с выгороженными дифтовыми холлами на каждом этаже"
   ]
  },
  {
   "cell_type": "code",
   "execution_count": null,
   "id": "d33b0691",
   "metadata": {},
   "outputs": [],
   "source": []
  },
  {
   "cell_type": "markdown",
   "id": "87c5ac82",
   "metadata": {},
   "source": [
    "#### 4.2.3 Лифтовые шахты у наружных ограждений, с остановками лифтов на уровнях только надземных этажей и с выгороженными лифтовыми холлами на каждом этаже"
   ]
  },
  {
   "cell_type": "code",
   "execution_count": null,
   "id": "4fe301ef",
   "metadata": {},
   "outputs": [],
   "source": []
  },
  {
   "cell_type": "markdown",
   "id": "29901cdd",
   "metadata": {},
   "source": [
    "#### 4.2.4 Лифтовые шахты у наружных ограждений, с остановками лифтов на уровнях только надземных этажей и с выгороженными лифтовыми холлами на каждом этаже, кроме первого"
   ]
  },
  {
   "cell_type": "code",
   "execution_count": null,
   "id": "a80755bc",
   "metadata": {},
   "outputs": [],
   "source": []
  },
  {
   "cell_type": "markdown",
   "id": "3dd915dd",
   "metadata": {},
   "source": [
    "#### 4.2.5 Лифтовые шахты подземные, с остановками лифтов на уровнях только на подземных и нижнем надземном и с выгороженными лифтовыми холлами на каждом этаже"
   ]
  },
  {
   "cell_type": "code",
   "execution_count": null,
   "id": "2c44f1ad",
   "metadata": {},
   "outputs": [],
   "source": []
  },
  {
   "cell_type": "markdown",
   "id": "4e75e4ac",
   "metadata": {},
   "source": [
    "??? \n",
    "#### 4.2.5 Лифтовые шахты подземные, с остановками лифтов на уровнях только на подземных и нижнем надземном и с выгороженными лифтовыми холлами на каждом этаже"
   ]
  },
  {
   "cell_type": "code",
   "execution_count": null,
   "id": "24f26536",
   "metadata": {},
   "outputs": [],
   "source": []
  }
 ],
 "metadata": {
  "language_info": {
   "name": "python"
  }
 },
 "nbformat": 4,
 "nbformat_minor": 5
}
