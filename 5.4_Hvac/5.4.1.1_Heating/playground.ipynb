{
 "cells": [
  {
   "cell_type": "markdown",
   "id": "e1f70d6f",
   "metadata": {},
   "source": [
    "**Calculation of Heat Flow for Radiators**\n",
    "\n",
    "The formula for calculating the heat flow of a radiator under conditions different from normal (95/85/20°C, coolant flow rate 0.1 kg/s) is as follows:\n",
    "\n",
    "$Q = Q_{\\text{nom}} \\cdot \\left(\\frac{\\theta}{70}\\right)^n \\cdot b \\cdot k \\cdot p$\n",
    "\n",
    "Where:\n",
    "- $Q_{\\text{nom}}$ is the nominal heat flow of the radiator under normal conditions [W].\n",
    "- $\\theta$ is the actual temperature difference [°C].\n",
    "- $t_h$ and $t_k$ are the initial and final temperatures of the coolant (at the inlet and outlet) in the heating device [°C].\n",
    "- $t_p$ is the calculated room temperature, equal to the calculated air temperature in the heated room [°C].\n",
    "- $n$ is an empirical exponent for the relative temperature difference.\n",
    "- $b$ is a dimensionless correction factor for the calculated atmospheric pressure.\n",
    "- $k$ is the coefficient for single-sided connection.\n",
    "\n",
    "**Example Calculation:**\n",
    "\n",
    "For a coolant flow rate of 0.015–0.15 kg/s (54–540 kg/h), the coefficients are $c = 1$, $m = 0$, $p = 1$. The formula simplifies to:\n",
    "\n",
    "$Q = Q_{\\text{nom}} \\cdot \\left(\\frac{\\theta}{70}\\right)^n \\cdot b \\cdot k$\n",
    "\n",
    "**Movement of Coolant:**\n",
    "- For \"top-down\" movement, the coefficients are as follows:\n",
    "  - $n = 0.26$ for 10–300, 10–500, and 11–500.\n",
    "  - $n = 0.3$ for 20–300 and 20–500.\n",
    "  - $n = 0.28$ for 20–200, 202–300, and 202–500.\n",
    "  - $n = 0.3$ for 21–300, 21–500, 22–300, and 22–500.\n",
    "  - $n = 0.3$ for 30–500, 302–500, 33–300, and 33–500.\n",
    "\n",
    "If you need further assistance or clarification, feel free to ask!"
   ]
  },
  {
   "cell_type": "code",
   "execution_count": 1,
   "id": "cbaf0daf",
   "metadata": {},
   "outputs": [],
   "source": [
    "from heater_recalculation import * "
   ]
  },
  {
   "cell_type": "code",
   "execution_count": 2,
   "id": "4cb29bda",
   "metadata": {},
   "outputs": [
    {
     "data": {
      "text/plain": [
       "324"
      ]
     },
     "execution_count": 2,
     "metadata": {},
     "output_type": "execute_result"
    }
   ],
   "source": [
    "calculate_heat_flow(\n",
    "    Q_nom_w = 494, \n",
    "    t_1 = 85, \n",
    "    t_2 = 60, \n",
    "    t_p = 20) "
   ]
  }
 ],
 "metadata": {
  "kernelspec": {
   "display_name": "Python 3",
   "language": "python",
   "name": "python3"
  },
  "language_info": {
   "codemirror_mode": {
    "name": "ipython",
    "version": 3
   },
   "file_extension": ".py",
   "mimetype": "text/x-python",
   "name": "python",
   "nbconvert_exporter": "python",
   "pygments_lexer": "ipython3",
   "version": "3.13.3"
  }
 },
 "nbformat": 4,
 "nbformat_minor": 5
}
