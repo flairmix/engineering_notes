{
 "cells": [
  {
   "cell_type": "code",
   "execution_count": 1,
   "id": "789cb1f7",
   "metadata": {},
   "outputs": [],
   "source": [
    "from vent_general import calculate_airVelocity_m_s\n",
    "from vent_general import calculate_air_heating_power_kW\n",
    "from vent_general import calculate_air_pressure_loss_Pa"
   ]
  },
  {
   "cell_type": "code",
   "execution_count": 2,
   "id": "33b4ed39",
   "metadata": {},
   "outputs": [
    {
     "name": "stdout",
     "output_type": "stream",
     "text": [
      "square_m2 = 0.05\n"
     ]
    },
    {
     "data": {
      "text/plain": [
       "2.778"
      ]
     },
     "execution_count": 2,
     "metadata": {},
     "output_type": "execute_result"
    }
   ],
   "source": [
    "calculate_airVelocity_m_s(500, 0.1, 0.5)"
   ]
  },
  {
   "cell_type": "code",
   "execution_count": 3,
   "id": "ddd65d1d",
   "metadata": {},
   "outputs": [
    {
     "data": {
      "text/plain": [
       "14.74"
      ]
     },
     "execution_count": 3,
     "metadata": {},
     "output_type": "execute_result"
    }
   ],
   "source": [
    "calculate_air_heating_power_kW(1000, -26, 18)"
   ]
  },
  {
   "cell_type": "markdown",
   "id": "efaff74e",
   "metadata": {},
   "source": [
    "### Формулы расчета коэффициента трения для разных режимов течения\n",
    "\n",
    "**Коэффициент трения** (коэффициент гидравлического сопротивления) обозначается как $\\lambda$ или $f$ и является безразмерной величиной.\n",
    "\n",
    "### Ламинарный режим ($Re < 2300$)\n",
    "\n",
    "Для круглых труб используется формула Пуазейля:\n",
    "\n",
    "$\\lambda = \\frac{64}{Re}$\n",
    "\n",
    "Для квадратных каналов:\n",
    "\n",
    "$\\lambda = \\frac{14.227}{Re}$\n",
    "\n",
    "### Турбулентный режим ($Re > 4000$)\n",
    "\n",
    "**Для гидравлически гладких труб** (Re < 10⁵):\n",
    "\n",
    "Формула Блазиуса:\n",
    "\n",
    "$\\lambda = \\frac{0.316}{Re^{0.25}}$\n",
    "\n",
    "**Для шероховатых труб** используется формула Альтшуля:\n",
    "\n",
    "$\\lambda = 0.11\\left(\\frac{\\Delta}{d} + \\frac{68}{Re}\\right)^{0.25}$\n",
    "\n",
    "где $\\Delta$ — относительная шероховатость трубы.\n",
    "\n",
    "**Для области квадратичного сопротивления**:\n",
    "\n",
    "Формула Шифринсона:\n",
    "\n",
    "$\\lambda = 0.11\\left(\\frac{\\Delta}{d}\\right)^{0.25}$\n",
    "\n",
    "### Переходный режим (2300 < Re < 4000)\n",
    "\n",
    "В переходной области рекомендуется использовать:\n",
    "\n",
    "* Приближенную формулу Блазиуса\n",
    "* Или формулу Конакова при Re > 10⁵:\n",
    "\n",
    "$\\lambda = \\frac{1}{(1.8\\lg Re - 1.5)^2}$\n",
    "\n",
    "### Практические рекомендации\n",
    "\n",
    "* При точных расчетах необходимо учитывать шероховатость трубы\n",
    "* Для инженерных расчетов можно использовать среднее значение $\\lambda = 0.03-0.04$\n",
    "* При малых числах Рейнольдса (ламинарный режим) коэффициент трения зависит только от Re\n",
    "* В турбулентном режиме существенное влияние оказывает шероховатость стенок\n",
    "* Формулы для круглых и квадратных сечений различаются из-за разной геометрии потока"
   ]
  },
  {
   "cell_type": "code",
   "execution_count": 7,
   "id": "81ac2762",
   "metadata": {},
   "outputs": [
    {
     "name": "stdout",
     "output_type": "stream",
     "text": [
      "square_m2 = 0.1\n",
      "velocity_m_s = 0.556\n",
      "equivalent_diameter = 0.28571428571428575\n",
      "reynolds_number = 10617.444499504936\n",
      "dynamic_pressure_pa = 0.18625444000000005\n",
      "friction_coefficient = 0.03153492916186693\n"
     ]
    },
    {
     "data": {
      "text/plain": [
       "2"
      ]
     },
     "execution_count": 7,
     "metadata": {},
     "output_type": "execute_result"
    }
   ],
   "source": [
    "calculate_air_pressure_loss_Pa(flow_m3_h=200, \n",
    "                               length_m=100,\n",
    "                                a_side_m=0.2,\n",
    "                                b_side_m= 0.5,\n",
    "                                diameter_m=0.300,\n",
    "                                shape=\"rect\"\n",
    "                                )"
   ]
  }
 ],
 "metadata": {
  "kernelspec": {
   "display_name": "Python 3",
   "language": "python",
   "name": "python3"
  },
  "language_info": {
   "codemirror_mode": {
    "name": "ipython",
    "version": 3
   },
   "file_extension": ".py",
   "mimetype": "text/x-python",
   "name": "python",
   "nbconvert_exporter": "python",
   "pygments_lexer": "ipython3",
   "version": "3.13.3"
  }
 },
 "nbformat": 4,
 "nbformat_minor": 5
}
