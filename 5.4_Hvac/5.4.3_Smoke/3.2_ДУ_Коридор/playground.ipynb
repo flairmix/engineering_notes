{
 "cells": [
  {
   "cell_type": "code",
   "execution_count": 5,
   "id": "f92987c4",
   "metadata": {},
   "outputs": [],
   "source": [
    "from Level import Building, Level\n",
    "from Corridor import Corridor\n",
    "from Room import Room\n",
    "from Corridor_calculation import Corridor_calculation"
   ]
  },
  {
   "cell_type": "code",
   "execution_count": 6,
   "id": "21d75b9a",
   "metadata": {},
   "outputs": [],
   "source": [
    "building1 = Building(name='K1', \n",
    "                     height_m=180,\n",
    "                     type=\"Жилое\"\n",
    "                     )\n",
    "\n",
    "lvl2 = Level(building=building1,\n",
    "             number=2,\n",
    "             elevation_rel=5.400\n",
    "             )\n",
    "\n",
    "\n",
    "room1 = Room(\n",
    "    room_number=\"1.2.10\",\n",
    "    room_name='room_name_default',\n",
    "    room_level=lvl2,\n",
    "    room_area_m2=100.0,\n",
    "    room_high_m=3.0,\n",
    "    room_fire_load_density=800.0,\n",
    "    room_calorific_value_fire_load=14.0,\n",
    ")\n",
    "\n",
    "corridor1 = Corridor(\n",
    "    corridor_number='2.3.44',\n",
    "    corridor_level=lvl2,\n",
    "    corridor_height_m=3.0,\n",
    "    corridor_door_height_m=2.0,\n",
    "    corridor_door_width_m=1.0,\n",
    "    corridor_area_m2=30.0,\n",
    "    corridor_length_m=15.0,\n",
    "    corridor_coef_building_type=1.2,\n",
    "    corridor_temp_C=18\n",
    ")"
   ]
  },
  {
   "cell_type": "code",
   "execution_count": 7,
   "id": "1784acee",
   "metadata": {},
   "outputs": [
    {
     "name": "stdout",
     "output_type": "stream",
     "text": [
      "    number: 1.2.10\n",
      "    name: room_name_default\n",
      "    level: <Level.Level object at 0x000002082F624F50>\n",
      "    area_m2: 100.0\n",
      "    height_m: 3.0\n",
      "    volume_m3: 300.0\n",
      "    fire_load_density: 800.0\n",
      "    calorific_value: 14.0\n",
      "    temperature_C: 24\n",
      "    temperature_K: 297\n",
      "----------------------------------------\n",
      "    corridor_number: 2.3.44\n",
      "    level: <Level.Level object at 0x000002082F624F50>\n",
      "    height_m: 3.0\n",
      "    door_height_m: 2.0\n",
      "    door_width_m: 1.0\n",
      "    area_m2: 30.0\n",
      "    length_m: 15.0\n",
      "    building_type_coef: 1.2\n",
      "    temperature_C: 18\n",
      "    temperature_K: 291.15\n",
      "    opening_area_m2: 2.0\n"
     ]
    }
   ],
   "source": [
    "room_dict = room1.to_dict()\n",
    "\n",
    "for key, value in room_dict.items():\n",
    "    print(f\"{' ' * 4}{key}: {value}\")\n",
    "\n",
    "print('----'*10)\n",
    "corridor_dict = corridor1.to_dict()\n",
    "\n",
    "for key, value in corridor_dict.items():\n",
    "    print(f\"{' ' * 4}{key}: {value}\")"
   ]
  },
  {
   "cell_type": "code",
   "execution_count": 8,
   "id": "096bc55a",
   "metadata": {},
   "outputs": [
    {
     "name": "stdout",
     "output_type": "stream",
     "text": [
      "    room: {'number': '1.2.10', 'name': 'room_name_default', 'level': <Level.Level object at 0x000002082F624F50>, 'area_m2': 100.0, 'height_m': 3.0, 'volume_m3': 300.0, 'fire_load_density': 800.0, 'calorific_value': 14.0, 'temperature_C': 24, 'temperature_K': 297}\n",
      "    corridor: {'corridor_number': '2.3.44', 'level': <Level.Level object at 0x000002082F624F50>, 'height_m': 3.0, 'door_height_m': 2.0, 'door_width_m': 1.0, 'area_m2': 30.0, 'length_m': 15.0, 'building_type_coef': 1.2, 'temperature_C': 18, 'temperature_K': 291.15, 'opening_area_m2': 2.0}\n",
      "    building_type: жилое\n",
      "    opening1_area: 2.0\n",
      "    A0: 2.0\n",
      "    Fw: 269.4\n",
      "    room_opening_rate: 0.066\n",
      "    Fw_unit_fire_load_by_walling: 21.68\n",
      "    v0_air_for_burn: 3.68\n",
      "    unit_fire_load_critical: 1.429\n",
      "    unit_fire_load_by_floor_square: 57.971\n",
      "    fire_type: FIRE_BY_VENT\n",
      "    max_temp: 1369.067\n",
      "    temp_smoke_room_to_coridor: 1095.25\n",
      "    corridor_smoke_hight_limit: 1.65\n",
      "    corridor_smoke_temp: 570.63\n",
      "    corridor_door_area_m2: 2.0\n",
      "    coef_building_type: 1.0\n",
      "    smoke_consumption_mass_kg_s: 2.828\n",
      "    smoke_density: 0.62\n",
      "    smoke_consumption_vol: 16420.645\n"
     ]
    }
   ],
   "source": [
    "calc = Corridor_calculation(\n",
    "    level=lvl2,\n",
    "    room=room1,\n",
    "    corridor=corridor1,\n",
    "    building_type='жилое',\n",
    ")\n",
    "\n",
    "calc_dict = calc.to_dict()\n",
    "\n",
    "for key, value in calc_dict.items():\n",
    "    print(f\"{' ' * 4}{key}: {value}\")"
   ]
  }
 ],
 "metadata": {
  "kernelspec": {
   "display_name": "Python 3",
   "language": "python",
   "name": "python3"
  },
  "language_info": {
   "codemirror_mode": {
    "name": "ipython",
    "version": 3
   },
   "file_extension": ".py",
   "mimetype": "text/x-python",
   "name": "python",
   "nbconvert_exporter": "python",
   "pygments_lexer": "ipython3",
   "version": "3.13.3"
  }
 },
 "nbformat": 4,
 "nbformat_minor": 5
}
