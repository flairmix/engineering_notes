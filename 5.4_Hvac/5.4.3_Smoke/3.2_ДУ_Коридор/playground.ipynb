{
 "cells": [
  {
   "cell_type": "code",
   "execution_count": 8,
   "id": "f92987c4",
   "metadata": {},
   "outputs": [],
   "source": [
    "from Coridor import Corridor\n",
    "from Room import Room"
   ]
  },
  {
   "cell_type": "code",
   "execution_count": 9,
   "id": "21d75b9a",
   "metadata": {},
   "outputs": [],
   "source": [
    "room = Room(\n",
    "    room_systemname=\"room_systemname_default\",\n",
    "    room_name='room_name_default',\n",
    "    room_level=1,\n",
    "    room_area_m2=100.0,\n",
    "    room_high_m=3.0,\n",
    "    room_fire_load_density=800.0,\n",
    "    room_calorific_value_fire_load=14.0,\n",
    ")"
   ]
  },
  {
   "cell_type": "code",
   "execution_count": 10,
   "id": "14a7780c",
   "metadata": {},
   "outputs": [],
   "source": [
    "coridor = Corridor(\n",
    "    corridor_system_name='corridor_system_name_default',\n",
    "    corridor_level=1,\n",
    "    corridor_height_m=3.0,\n",
    "    corridor_door_height_m=2.0,\n",
    "    corridor_door_width_m=1.0,\n",
    "    corridor_area_m2=30.0,\n",
    "    corridor_length_m=15.0,\n",
    "    corridor_coef_building_type=1.2,\n",
    "    corridor_temp=18\n",
    ")"
   ]
  },
  {
   "cell_type": "code",
   "execution_count": null,
   "id": "a9302a78",
   "metadata": {},
   "outputs": [],
   "source": [
    "smoke_result_0 = corridor_calc_one(room, corridor)\n",
    "\n",
    "smoke_result_df = corridor_df_one(room, corridor)\n",
    "smoke_result_dict = smoke_result_df.to_dict(orient='dict')\n",
    "\n",
    "result_output = corridor_calc_response(room, corridor)\n"
   ]
  }
 ],
 "metadata": {
  "kernelspec": {
   "display_name": "Python 3",
   "language": "python",
   "name": "python3"
  },
  "language_info": {
   "codemirror_mode": {
    "name": "ipython",
    "version": 3
   },
   "file_extension": ".py",
   "mimetype": "text/x-python",
   "name": "python",
   "nbconvert_exporter": "python",
   "pygments_lexer": "ipython3",
   "version": "3.13.3"
  }
 },
 "nbformat": 4,
 "nbformat_minor": 5
}
