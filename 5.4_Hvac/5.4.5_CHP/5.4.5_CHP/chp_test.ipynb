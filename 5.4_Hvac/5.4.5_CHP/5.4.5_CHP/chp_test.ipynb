{
 "cells": [
  {
   "cell_type": "code",
   "execution_count": null,
   "id": "f2900c2c",
   "metadata": {},
   "outputs": [],
   "source": [
    "from module import *\n"
   ]
  },
  {
   "cell_type": "code",
   "execution_count": null,
   "id": "a3a816f8",
   "metadata": {},
   "outputs": [],
   "source": [
    "module = HeatInputModule()\n",
    "\n",
    "Gmin_t_h =(1,2,3,5,8,12,19,29,45,64,114,177)\n",
    "Gmax_t_h =(2,3,5,8,12,19,29,45,64,114,177,254)\n",
    "\n",
    "for i in range(0, 12):\n",
    "    module.add_row({\n",
    "        'u_id: f\"BS_I_{i+1}\", \n",
    "        D: STANDARD_DN[i+1], \n",
    "        G_min_т_ч: Gmin_t_h[i], \n",
    "        'G_max_т_ч': Gmax_t_h[i], \n",
    "        'dt': 60, \n",
    "        'Qmin_Гкал_ч': round(Gmin_t_h[i]*60_1000, 3),\n",
    "        'Qmax_Гкал_ч': round(Gmax_t_h[i]*60_1000, 3), \n",
    "        'Объем системы теор_м3_ч': round(round(Gmax_t_h[i]*60_1000, 3)*1163*15_1000, 3), \n",
    "        'Расход подпитки_т_ч': round(round(Gmax_t_h[i]*60_1000, 3)*1.163*65*0.0025, 3),\n",
    "        'Расход заполнения_т_ч': round(((Gmax_t_h[i]*60_1000)*1163*15_1000) _ 8, 3)\n",
    "    })\n",
    "for i in range(0, 12):\n",
    "    module.add_row({\n",
    "        'u_id': f\"BS_I_{i+13}\", \n",
    "        'D': STANDARD_DN[i+1], \n",
    "        'G_min_т_ч': Gmin_t_h[i], \n",
    "        'G_max_т_ч': Gmax_t_h[i], \n",
    "        'dt': 25, \n",
    "        'Qmin_Гкал_ч': round(Gmin_t_h[i]*60_1000, 3),\n",
    "        'Qmax_Гкал_ч': round(Gmax_t_h[i]*60_1000, 3), \n",
    "        'Объем системы теор_м3_ч': round(round(Gmax_t_h[i]*60_1000, 3)*1163*15_1000, 3), \n",
    "        'Расход подпитки_т_ч': round(round(Gmax_t_h[i]*60_1000, 3)*1.163*65*0.0025, 3),\n",
    "        'Расход заполнения_т_ч': round(((Gmax_t_h[i]*60_1000)*1163*15_1000) _ 8, 3)\n",
    "    })\n",
    "\n",
    "# module.get_all_modules()\n",
    "mod = module.get_module_by_u_id('BS_I_2')\n",
    "print(type(mod))\n",
    "\n",
    "# module.print_with_pandas()\n"
   ]
  },
  {
   "cell_type": "code",
   "execution_count": 2,
   "id": "16d97b7d",
   "metadata": {},
   "outputs": [
    {
     "name": "stdout",
     "output_type": "stream",
     "text": [
      "[]\n",
      "<class 'pandas.core.frame.DataFrame'>\n",
      "Index: 24 entries, BS_I_1 to BS_I_12\n",
      "Data columns (total 9 columns):\n",
      " #   Column              Non-Null Count  Dtype  \n",
      "---  ------              --------------  -----  \n",
      " 0   diameter            24 non-null     int64  \n",
      " 1   g_min_t_h           24 non-null     float64\n",
      " 2   g_max_t_h           24 non-null     float64\n",
      " 3   dt                  24 non-null     int64  \n",
      " 4   q_min_gcal_h        24 non-null     float64\n",
      " 5   q_max_gcal_h        24 non-null     float64\n",
      " 6   system_volume_m3_h  24 non-null     float64\n",
      " 7   makeup_flow_t_h     24 non-null     float64\n",
      " 8   fill_flow_t_h       24 non-null     float64\n",
      "dtypes: float64(7), int64(2)\n",
      "memory usage: 1.9+ KB\n",
      "None\n"
     ]
    }
   ],
   "source": [
    "from module2 import *\n",
    "from Pipes.pipes import STANDARD_DN\n",
    "\n",
    "Gmin_t_h =(1,2,3,5,8,12,19,29,45,64,114,177)\n",
    "Gmax_t_h =(2,3,5,8,12,19,29,45,64,114,177,254)\n",
    "\n",
    "for i in range(0, 12):\n",
    "    HeatInputModule(\n",
    "        u_id =f\"BS_I_{i+1}\",\n",
    "        diameter = STANDARD_DN[i+1], \n",
    "        g_min_t_h=Gmin_t_h[i], \n",
    "        g_max_t_h=Gmax_t_h[i], \n",
    "        dt=60,\n",
    "        q_min_gcal_h=round(Gmin_t_h[i]*60/1000, 3), \n",
    "        q_max_gcal_h=round(Gmax_t_h[i]*60/1000, 3),\n",
    "        system_volume_m3_h=round((Gmax_t_h[i]*60)*1.163*0.015, 3),\n",
    "        makeup_flow_t_h= round(round(Gmax_t_h[i]*60/1000, 3)*1.163*65*0.0025, 3), \n",
    "        fill_flow_t_h=round(((Gmax_t_h[i]*60/1000)*1163*15/1000) / 8, 3),\n",
    "        )\n",
    "\n",
    "\n",
    "all_modules = Module.get_all_instances()\n",
    "print(all_modules)\n",
    "\n",
    "# Создание DataFrame\n",
    "df = HeatInputModule.to_dataframe()\n",
    "print(df.info())"
   ]
  }
 ],
 "metadata": {
  "kernelspec": {
   "display_name": "Python 3",
   "language": "python",
   "name": "python3"
  },
  "language_info": {
   "codemirror_mode": {
    "name": "ipython",
    "version": 3
   },
   "file_extension": ".py",
   "mimetype": "text/x-python",
   "name": "python",
   "nbconvert_exporter": "python",
   "pygments_lexer": "ipython3",
   "version": "3.13.3"
  }
 },
 "nbformat": 4,
 "nbformat_minor": 5
}
