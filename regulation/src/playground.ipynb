{
 "cells": [
  {
   "cell_type": "code",
   "execution_count": 1,
   "id": "9711b637",
   "metadata": {},
   "outputs": [],
   "source": [
    "from sqlalchemy.orm import Session\n",
    "from database import get_db, get_db_table_names, get_db_table_metadata\n",
    "from repository import DocumentRepository\n",
    "from models import Document, Point"
   ]
  },
  {
   "cell_type": "code",
   "execution_count": 2,
   "id": "d97f502d",
   "metadata": {},
   "outputs": [],
   "source": [
    "# db = next(get_db())\n",
    "\n",
    "# # Создаем репозиторий с внедрением зависимости\n",
    "# repo = DocumentRepository(db)\n",
    "\n",
    "# # Добавление документа\n",
    "# doc = repo.add_document(\n",
    "#     title='СНиП 2.03.01-84',\n",
    "#     number='2.03.01-84',\n",
    "#     date_str='1984-01-01',\n",
    "#     doc_type='СНиП',\n",
    "#     status='действующий',\n",
    "#     version='1.0'\n",
    "# )\n",
    "\n",
    "# # Добавление пунктов\n",
    "# repo.add_point(doc.id, '1.1', 'Пункт 1.1: Общие положения')\n",
    "# repo.add_point(doc.id, '1.2', 'Пункт 1.2: Требования к материалам')\n",
    "\n",
    "# # Закрываем сессию\n",
    "# db.close()"
   ]
  },
  {
   "cell_type": "code",
   "execution_count": 3,
   "id": "c0d09d69",
   "metadata": {},
   "outputs": [
    {
     "name": "stdout",
     "output_type": "stream",
     "text": [
      "Документ: СНиП 2.03.01-84\n",
      "  Пункт 1.1: Пункт 1.1: Общие положения\n",
      "  Пункт 1.2: Пункт 1.2: Требования к материалам\n",
      "Документ: СНиП 2.03.01-84\n",
      "  doc.date 1984-01-01\n",
      "  Пункт 1.1: Пункт 1.1: Общие положения\n",
      "  doc.date 1984-01-01\n",
      "  Пункт 1.2: Пункт 1.2: Требования к материалам\n"
     ]
    }
   ],
   "source": [
    "\n",
    "db = next(get_db())\n",
    "repo = DocumentRepository(db)\n",
    "    \n",
    "documents = repo.get_all_documents()\n",
    "documents_sorted = repo.get_documents_sorted_by_date()\n",
    "for doc in documents:\n",
    "    print(f\"Документ: {doc.title}\")\n",
    "    for point in doc.points:\n",
    "        print(f\"  Пункт {point.number}: {point.text}\")\n",
    "\n",
    "for doc in documents_sorted:\n",
    "    print(f\"Документ: {doc.title}\")\n",
    "    for point in doc.points:\n",
    "        print(f\"  doc.date {doc.date}\")\n",
    "        print(f\"  Пункт {point.number}: {point.text}\")\n",
    "\n",
    "db.close()"
   ]
  },
  {
   "cell_type": "code",
   "execution_count": 4,
   "id": "2928e6b6",
   "metadata": {},
   "outputs": [
    {
     "name": "stdout",
     "output_type": "stream",
     "text": [
      "Таблица: alembic_version\n",
      "  Столбец: version_num (VARCHAR(32))\n",
      "Таблица: documents\n",
      "  Столбец: id (INTEGER)\n",
      "  Столбец: number (VARCHAR(255))\n",
      "  Столбец: version (VARCHAR(50))\n",
      "  Столбец: title (VARCHAR(255))\n",
      "  Столбец: date (DATE)\n",
      "  Столбец: type (VARCHAR(100))\n",
      "  Столбец: status (VARCHAR(50))\n",
      "Таблица: points\n",
      "  Столбец: id (INTEGER)\n",
      "  Столбец: document_id (INTEGER)\n",
      "  Столбец: number (VARCHAR(50))\n",
      "  Столбец: text (VARCHAR)\n",
      "  Столбец: comments (VARCHAR)\n"
     ]
    }
   ],
   "source": [
    "get_db_table_names()"
   ]
  },
  {
   "cell_type": "code",
   "execution_count": 5,
   "id": "7446af68",
   "metadata": {},
   "outputs": [
    {
     "name": "stdout",
     "output_type": "stream",
     "text": [
      "Таблица: alembic_version\n",
      "  version_num: VARCHAR(32)\n",
      "  Индексы:\n",
      "  Ограничения:\n",
      "    alembic_version_pkc: PrimaryKeyConstraint(Column('version_num', VARCHAR(length=32), table=<alembic_version>, primary_key=True, nullable=False))\n",
      "Таблица: documents\n",
      "  id: INTEGER\n",
      "  number: VARCHAR(255)\n",
      "  version: VARCHAR(50)\n",
      "  title: VARCHAR(255)\n",
      "  date: DATE\n",
      "  type: VARCHAR(100)\n",
      "  status: VARCHAR(50)\n",
      "  Индексы:\n",
      "    ix_documents_date: ReadOnlyColumnCollection(documents.date)\n",
      "    ix_documents_number: ReadOnlyColumnCollection(documents.number)\n",
      "  Ограничения:\n",
      "    uix_number_version: UniqueConstraint(Column('number', VARCHAR(length=255), table=<documents>, nullable=False), Column('version', VARCHAR(length=50), table=<documents>, nullable=False))\n",
      "    None: PrimaryKeyConstraint(Column('id', INTEGER(), table=<documents>, primary_key=True, nullable=False))\n",
      "Таблица: points\n",
      "  id: INTEGER\n",
      "  document_id: INTEGER\n",
      "  number: VARCHAR(50)\n",
      "  text: VARCHAR\n",
      "  comments: VARCHAR\n",
      "  Индексы:\n",
      "    idx_document_point_number: ReadOnlyColumnCollection(points.document_id, points.number)\n",
      "    ix_points_number: ReadOnlyColumnCollection(points.number)\n",
      "  Ограничения:\n",
      "    None: ForeignKeyConstraint(<sqlalchemy.sql.base.ReadOnlyColumnCollection object at 0x000001EBBD2863E0>, None, ondelete='CASCADE', link_to_name=True, table=Table('points', MetaData(), Column('id', INTEGER(), table=<points>, primary_key=True, nullable=False), Column('document_id', INTEGER(), ForeignKey('documents.id'), table=<points>, nullable=False), Column('number', VARCHAR(length=50), table=<points>), Column('text', VARCHAR(), table=<points>, nullable=False), Column('comments', VARCHAR(), table=<points>), schema=None))\n",
      "    None: PrimaryKeyConstraint(Column('id', INTEGER(), table=<points>, primary_key=True, nullable=False))\n"
     ]
    }
   ],
   "source": [
    "get_db_table_metadata()"
   ]
  }
 ],
 "metadata": {
  "kernelspec": {
   "display_name": "Python 3",
   "language": "python",
   "name": "python3"
  },
  "language_info": {
   "codemirror_mode": {
    "name": "ipython",
    "version": 3
   },
   "file_extension": ".py",
   "mimetype": "text/x-python",
   "name": "python",
   "nbconvert_exporter": "python",
   "pygments_lexer": "ipython3",
   "version": "3.13.3"
  }
 },
 "nbformat": 4,
 "nbformat_minor": 5
}
